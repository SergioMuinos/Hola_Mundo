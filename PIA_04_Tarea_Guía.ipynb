{
  "nbformat": 4,
  "nbformat_minor": 0,
  "metadata": {
    "colab": {
      "provenance": [],
      "include_colab_link": true
    },
    "kernelspec": {
      "name": "python3",
      "display_name": "Python 3"
    },
    "language_info": {
      "name": "python"
    }
  },
  "cells": [
    {
      "cell_type": "markdown",
      "metadata": {
        "id": "view-in-github",
        "colab_type": "text"
      },
      "source": [
        "<a href=\"https://colab.research.google.com/github/SergioMuinos/Hola_Mundo/blob/main/PIA_04_Tarea_Gu%C3%ADa.ipynb\" target=\"_parent\"><img src=\"https://colab.research.google.com/assets/colab-badge.svg\" alt=\"Open In Colab\"/></a>"
      ]
    },
    {
      "cell_type": "markdown",
      "source": [
        "# Ejercicio de clasificación de especies flor Iris utilizando librerías de Python para aprendizaje automático"
      ],
      "metadata": {
        "id": "H6_JyHzCcEHs"
      }
    },
    {
      "cell_type": "markdown",
      "source": [
        "Te proponemos ver en acción las librerías que has estudiado con el famoso dataset [\"iris flower data set\" elaborado por el biólogo Ronald Fisher](https://en.wikipedia.org/wiki/Iris_flower_data_set).\n",
        "En él, hay valores de medidas de los sépalos y pétalos de ejemplares de esta flor, según su especie.\n",
        "\n",
        "![Especies Iris](https://live.staticflickr.com/7866/47075467621_85ab810139_c.jpg)\n"
      ],
      "metadata": {
        "id": "Nlh-_Jlu_iRL"
      }
    },
    {
      "cell_type": "markdown",
      "source": [
        "## Apartado 1:"
      ],
      "metadata": {
        "id": "2F1vGhuyop1R"
      }
    },
    {
      "cell_type": "markdown",
      "source": [
        "1. Importa las librerías Numpy y Pandas\n",
        "\n",
        "\n",
        "\n",
        "```\n",
        "import numpy as np\n",
        "import pandas as pd\n",
        "```\n",
        "\n"
      ],
      "metadata": {
        "id": "fHvKLQSnL6zA"
      }
    },
    {
      "cell_type": "code",
      "execution_count": null,
      "metadata": {
        "id": "--3IdaBwb4ow"
      },
      "outputs": [],
      "source": [
        "# Escribe aquí tu código\n"
      ]
    },
    {
      "cell_type": "markdown",
      "source": [
        "2. Importa load_iris de la biblioteca de datasets de scikit-learn y echa un vistazo rápido a sus principales elementos 'data', 'target' y 'target_names'.\n",
        "\n",
        "\n",
        "```\n",
        "from sklearn.datasets import load_iris\n",
        "\n",
        "data = load_iris()\n",
        "```\n",
        "\n",
        "\n",
        "```\n",
        "data['data']\n",
        "```\n",
        "\n",
        "\n",
        "```\n",
        "data['target']\n",
        "```\n",
        "\n",
        "\n",
        "\n",
        "```\n",
        "data['target_names']\n",
        "```\n",
        "\n",
        "\n",
        "\n"
      ],
      "metadata": {
        "id": "f6o8SqK6MEpN"
      }
    },
    {
      "cell_type": "code",
      "source": [
        "# Escribe aquí tu código\n"
      ],
      "metadata": {
        "id": "mCkq05FZcp0_"
      },
      "execution_count": null,
      "outputs": []
    },
    {
      "cell_type": "markdown",
      "source": [
        "3. Utiliza la clase DataFrame para crear el dataset df y añade la columna \"Species\" a partir de la secuencia target. Utiliza la función head para ver los primeros registros del nuevo dataset.\n",
        "\n",
        "\n",
        "```\n",
        "df = pd.DataFrame(data=data.data, columns=data.feature_names)\n",
        "df['Species'] = data.target\n",
        "df.head()\n",
        "```\n",
        "\n"
      ],
      "metadata": {
        "id": "uzdkoDx_M28M"
      }
    },
    {
      "cell_type": "code",
      "source": [
        "# Escribe aquí tu código\n"
      ],
      "metadata": {
        "id": "yggX8JXgeCiS"
      },
      "execution_count": null,
      "outputs": []
    },
    {
      "cell_type": "markdown",
      "source": [
        "4. Utiliza la función describe para ver los principales valores estadísticos del dataset.\n",
        "\n",
        "\n",
        "```\n",
        "df.describe()\n",
        "```\n",
        "\n"
      ],
      "metadata": {
        "id": "dsrub4tdmUS3"
      }
    },
    {
      "cell_type": "code",
      "source": [
        "# Escribe aquí tu código\n"
      ],
      "metadata": {
        "id": "DGsHtgj0eEh_"
      },
      "execution_count": null,
      "outputs": []
    },
    {
      "cell_type": "markdown",
      "source": [
        "## Apartado 2:"
      ],
      "metadata": {
        "id": "2bBeOngVowc9"
      }
    },
    {
      "cell_type": "markdown",
      "source": [
        "1. Importa el paquete pyplot de la librería matplotlib y haz una representación del dataset tipo \"dispersión de puntos\" o scatter plot con la variable \"sepal length (cm)\" en el eje x y la variable \"sepal width (cm)\" en el eje y.\n",
        "\n",
        "\n",
        "```\n",
        "import matplotlib.pyplot as plt\n",
        "\n",
        "df.plot(kind='scatter', x='sepal length (cm)', y='sepal width (cm)', color='blue')\n",
        "```\n",
        "\n"
      ],
      "metadata": {
        "id": "ZZ8wIC6gmjDJ"
      }
    },
    {
      "cell_type": "code",
      "source": [
        "# Escribe aquí tu código\n"
      ],
      "metadata": {
        "id": "F-E2q8QMhEdT"
      },
      "execution_count": null,
      "outputs": []
    },
    {
      "cell_type": "markdown",
      "source": [
        "2. Ahora haz una representación gráfica de los casos, pero distinguiendo con el color azul la especie \"Setosa\", con color verde la variable \"Versicolor\" y con color rojo la variable \"Virginica\".\n",
        "\n",
        "\n",
        "```\n",
        "fig = df[df.Species == 0].plot(kind='scatter', x='sepal length (cm)', y='sepal width (cm)', color='blue', label='Setosa')\n",
        "df[df.Species == 1].plot(kind='scatter', x='sepal length (cm)', y='sepal width (cm)', color='green', label='Versicolor', ax=fig)\n",
        "df[df.Species == 2].plot(kind='scatter', x='sepal length (cm)', y='sepal width (cm)', color='red', label='Virginica', ax=fig)\n",
        "\n",
        "fig.set_xlabel('Sépalo - Longitud')\n",
        "fig.set_ylabel('Sépalo - Ancho')\n",
        "fig.set_title('Sépalo - Longitud vs Ancho')\n",
        "plt.show()\n",
        "```\n",
        "\n"
      ],
      "metadata": {
        "id": "tqylUJM0ndSy"
      }
    },
    {
      "cell_type": "code",
      "source": [
        "# Escribe aquí tu código\n"
      ],
      "metadata": {
        "id": "qLwADhlEzBpV"
      },
      "execution_count": null,
      "outputs": []
    },
    {
      "cell_type": "markdown",
      "source": [
        "3. Analiza cómo se distribuyen los casos si, en vez de representar según las variables de los sépalos, utilizamos las variables basadas en las dimensiones de los pétalos. Representa los datos en una gráfica scatter, utilizando en el eje x la variable \"petal length (cm)\" y en el eje y la variable \"petal width\". De nuevo, distingue las especies con tres colores: color azul la especie \"Setosa\", con color verde la variable \"Versicolor\" y con color rojo la variable \"Virginica\".\n",
        "\n",
        "\n",
        "```\n",
        "fig = df[df.Species == 0].plot(kind='scatter', x='petal length (cm)', y='petal width (cm)', color='blue', label='Setosa')\n",
        "df[df.Species == 1].plot(kind='scatter', x='petal length (cm)', y='petal width (cm)', color='green', label='Versicolor', ax=fig)\n",
        "df[df.Species == 2].plot(kind='scatter', x='petal length (cm)', y='petal width (cm)', color='red', label='Virginica', ax=fig)\n",
        "\n",
        "fig.set_xlabel('Pétalo - Longitud')\n",
        "fig.set_ylabel('Pétalo - Ancho')\n",
        "fig.set_title('Pétalo Longitud vs Ancho')\n",
        "plt.show()\n",
        "```\n",
        "\n"
      ],
      "metadata": {
        "id": "7XJ9nr1pn6BV"
      }
    },
    {
      "cell_type": "code",
      "source": [
        "# Escribe aquí tu código\n"
      ],
      "metadata": {
        "id": "S06A2dsJ5Ix5"
      },
      "execution_count": null,
      "outputs": []
    },
    {
      "cell_type": "markdown",
      "source": [
        "## Apartado 3:"
      ],
      "metadata": {
        "id": "XxkBc8E7o6zu"
      }
    },
    {
      "cell_type": "markdown",
      "source": [
        "1. Importa los módulos de la librería Scikit-learn que nos permiten hacer un modelo de regresión lineal, un modelo de máquina de vectores soporte, un modelo de tipo los K vecinos más cercanos (KNN), y un modelo de tipo árbol de decición.\n",
        "\n",
        "\n",
        "```\n",
        "from sklearn.model_selection import train_test_split\n",
        "from sklearn.linear_model import LogisticRegression\n",
        "from sklearn.svm import SVC\n",
        "from sklearn.neighbors import KNeighborsClassifier\n",
        "from sklearn.tree import DecisionTreeClassifier\n",
        "```\n",
        "\n"
      ],
      "metadata": {
        "id": "K-6Owwmlo9Bs"
      }
    },
    {
      "cell_type": "code",
      "source": [
        "# Escribe aquí tu código\n"
      ],
      "metadata": {
        "id": "zKKEicb36vnt"
      },
      "execution_count": null,
      "outputs": []
    },
    {
      "cell_type": "markdown",
      "source": [
        "2. Genera el conjunto de datos X con las variables de entrada a los modelos, y el conjunto y de las etiquetas o variable de salida del modelo, eligiendo para éste último, la variable \"Species\".\n",
        "\n",
        "\n",
        "```\n",
        "y = df['Species']\n",
        "X = df.drop('Species',axis=1)\n",
        "```\n",
        "\n"
      ],
      "metadata": {
        "id": "eeqnucKUpX9e"
      }
    },
    {
      "cell_type": "code",
      "source": [
        "# Escribe aquí tu código\n"
      ],
      "metadata": {
        "id": "8vXgA8SG6vZq"
      },
      "execution_count": null,
      "outputs": []
    },
    {
      "cell_type": "markdown",
      "source": [
        "3. Utiliza la función train_test_split para separar los datos en el conjunto train y test según el ejemplo.\n",
        "\n",
        "\n",
        "```\n",
        "X_train, X_test, y_train, y_test = train_test_split(X, y, test_size=0.2)\n",
        "```\n",
        "\n"
      ],
      "metadata": {
        "id": "OmXfRirBrAp-"
      }
    },
    {
      "cell_type": "code",
      "source": [
        "# Escribe aquí tu código\n"
      ],
      "metadata": {
        "id": "veRS3WXW8MHO"
      },
      "execution_count": null,
      "outputs": []
    },
    {
      "cell_type": "markdown",
      "source": [
        "4. Crea un modelo de Regresión Logística. Utiliza la función fit para entrenarlo y utiliza la función predict sobre los datos de test para medir la precisión del modelo. Muestra el valor de dicha precisión con print.\n",
        "\n",
        "\n",
        "```\n",
        "algoritmo = LogisticRegression()\n",
        "algoritmo.fit(X_train, y_train)\n",
        "print('Precisión Regresión Logística: {}'.format(algoritmo.score(X_test, y_test)))\n",
        "```\n",
        "\n"
      ],
      "metadata": {
        "id": "9uRiAJlorM5k"
      }
    },
    {
      "cell_type": "code",
      "source": [
        "# Escribe aquí tu código\n"
      ],
      "metadata": {
        "id": "wdS48Tug7eD_"
      },
      "execution_count": null,
      "outputs": []
    },
    {
      "cell_type": "markdown",
      "source": [
        "5. Crea un modelo de SVC o Máquinas de Vectores de Soporte, entrénalo y calcula la precisión utilizando los datos de test. Muestra la precisión.\n",
        "\n",
        "\n",
        "```\n",
        "algoritmo = SVC()\n",
        "algoritmo.fit(X_train, y_train)\n",
        "print('Precisión Máquinas de Vectores de Soporte: {}'.format(algoritmo.score(X_test, y_test)))\n",
        "```\n",
        "\n"
      ],
      "metadata": {
        "id": "4MtG4_q4r1G-"
      }
    },
    {
      "cell_type": "code",
      "source": [
        "# Escribe aquí tu código\n"
      ],
      "metadata": {
        "id": "ITXUF-3W8RhD"
      },
      "execution_count": null,
      "outputs": []
    },
    {
      "cell_type": "markdown",
      "source": [
        "6. Crea un modelo de KNN o K vecinos más cercanos, entrénalo y calcula la precisión utilizando los datos de test. Muestra la precisión.\n",
        "\n",
        "\n",
        "```\n",
        "algoritmo = KNeighborsClassifier(n_neighbors=5)\n",
        "algoritmo.fit(X_train, y_train)\n",
        "print('Precisión Vecinos más Cercanos: {}'.format(algoritmo.score(X_test, y_test)))\n",
        "```\n",
        "\n"
      ],
      "metadata": {
        "id": "o8VsP73vsM_Y"
      }
    },
    {
      "cell_type": "code",
      "source": [
        "# Escribe aquí tu código\n"
      ],
      "metadata": {
        "id": "RsgrQCRa8eOC"
      },
      "execution_count": null,
      "outputs": []
    },
    {
      "cell_type": "markdown",
      "source": [
        "7. Crea un modelo de árbol de decisión, entrénalo y calcula la precisión utilizando los datos de test. Muestra la precisión.\n",
        "\n",
        "\n",
        "```\n",
        "algoritmo = DecisionTreeClassifier()\n",
        "algoritmo.fit(X_train, y_train)\n",
        "print('Precisión Árboles de Decisión Clasificación: {}'.format(algoritmo.score(X_test, y_test)))\n",
        "```\n",
        "\n"
      ],
      "metadata": {
        "id": "LDO0LQK9sUu8"
      }
    },
    {
      "cell_type": "code",
      "source": [
        "# Escribe aquí tu código\n"
      ],
      "metadata": {
        "id": "pyBJZcUy8u06"
      },
      "execution_count": null,
      "outputs": []
    },
    {
      "cell_type": "markdown",
      "source": [
        "8. Compara los valores de precisión que has ido consiguiendo en los diferentes modelos. ¿Cuál sería el mejor para este dataset?"
      ],
      "metadata": {
        "id": "ZWnXkgsAu69Y"
      }
    },
    {
      "cell_type": "markdown",
      "source": [
        "# Apartado 2"
      ],
      "metadata": {
        "id": "uubfydoa9KRW"
      }
    },
    {
      "cell_type": "markdown",
      "source": [
        "1. Imagina que no has podido tener todas las variables, y que solo has conseguido los valores de las medidas de los sépalos, y con esos datos debes entrenar un modelo que acierte con el tipo de especie de flor de iris. Para ello, crea un nuevo dataset que tenga solo las columnas de las dimensiones de los sépalos y la de la especie.\n",
        "\n",
        "\n",
        "```\n",
        "sepalo = df[['sepal length (cm)','sepal width (cm)','Species']]\n",
        "sepalo.head()\n",
        "```\n",
        "\n"
      ],
      "metadata": {
        "id": "-OFFSSKDsbdr"
      }
    },
    {
      "cell_type": "code",
      "source": [
        "# Escribe aquí tu código\n"
      ],
      "metadata": {
        "id": "6-ySarnq86f1"
      },
      "execution_count": null,
      "outputs": []
    },
    {
      "cell_type": "markdown",
      "source": [
        "2. Separa los datos en X_sepalo para las variables de entrada e y_sepalo para la variable de salida.\n",
        "\n",
        "\n",
        "```\n",
        "y_sepalo = sepalo['Species']\n",
        "X_sepalo = sepalo.drop('Species',axis=1)\n",
        "```\n",
        "\n"
      ],
      "metadata": {
        "id": "Sr2Uze9UtdUf"
      }
    },
    {
      "cell_type": "code",
      "source": [
        "# Escribe aquí tu código\n"
      ],
      "metadata": {
        "id": "wfbSsIiL9u7W"
      },
      "execution_count": null,
      "outputs": []
    },
    {
      "cell_type": "markdown",
      "source": [
        "3. Separa los datos en un conjunto X_train_s, X_test_s,y_train_s, y_test_s, para entrenamiento y test del modelo.\n",
        "\n",
        "\n",
        "```\n",
        "X_train_s, X_test_s, y_train_s, y_test_s = train_test_split(X_sepalo, y_sepalo, test_size=0.2)\n",
        "```\n",
        "\n"
      ],
      "metadata": {
        "id": "QGP2qgHwt6Vd"
      }
    },
    {
      "cell_type": "code",
      "source": [
        "# Escribe aquí tu código\n"
      ],
      "metadata": {
        "id": "Y-aBojvq99-d"
      },
      "execution_count": null,
      "outputs": []
    },
    {
      "cell_type": "markdown",
      "source": [
        "4. Crea, entrena y mide la precisión de un modelo de Regresión Logística. Muestra la precisión. ¿Es muy diferente al mismo modelo del apartado anterior?.\n",
        "\n",
        "\n",
        "```\n",
        "algoritmo = LogisticRegression()\n",
        "algoritmo.fit(X_train_s, y_train_s)\n",
        "print('Precisión Regresión Logística - Sépalo: {}'.format(algoritmo.score(X_test_s, y_test_s)))\n",
        "```\n",
        "\n"
      ],
      "metadata": {
        "id": "NiAYQjbSuNdb"
      }
    },
    {
      "cell_type": "code",
      "source": [
        "# Escribe aquí tu código\n"
      ],
      "metadata": {
        "id": "iYZyU3Ob-mzt"
      },
      "execution_count": null,
      "outputs": []
    },
    {
      "cell_type": "markdown",
      "source": [
        "5. Crea, entrena y mide la precisión de un modelo de Máquinas de Vectores Soporte. Muestra la precisión ¿Es muy diferente al mismo tipo de modelo del apartado anterior?.\n",
        "\n",
        "\n",
        "```\n",
        "algoritmo = SVC()\n",
        "algoritmo.fit(X_train_s, y_train_s)\n",
        "print('Precisión Máquinas de Vectores de Soporte - Sépalo: {}'.format(algoritmo.score(X_test_s, y_test_s)))\n",
        "```\n",
        "\n"
      ],
      "metadata": {
        "id": "EEodhjIVueVX"
      }
    },
    {
      "cell_type": "code",
      "source": [
        "# Escribe aquí tu código\n"
      ],
      "metadata": {
        "id": "cjOh297q-tPh"
      },
      "execution_count": null,
      "outputs": []
    },
    {
      "cell_type": "markdown",
      "source": [
        "6. Crea, entrena y mide la precisión de un modelo de K vecinos más cercanos. Muestra la precisión ¿Es muy diferente al mismo tipo de modelo del apartado anterior?.\n",
        "\n",
        "\n",
        "```\n",
        "algoritmo = KNeighborsClassifier(n_neighbors=5)\n",
        "algoritmo.fit(X_train_s, y_train_s)\n",
        "print('Precisión Vecinos más Cercanos - Sépalo: {}'.format(algoritmo.score(X_test_s, y_test_s)))\n",
        "```\n",
        "\n"
      ],
      "metadata": {
        "id": "7tIEUVesutvj"
      }
    },
    {
      "cell_type": "code",
      "source": [
        "# Escribe aquí tu código\n"
      ],
      "metadata": {
        "id": "tqD4cwrR-yBp"
      },
      "execution_count": null,
      "outputs": []
    },
    {
      "cell_type": "markdown",
      "source": [
        "7. Crea, entrena y mide la precisión de un modelo de Árbol de decisión. Muestra la precisión ¿Es muy diferente al mismo tipo de modelo del apartado anterior?\n",
        "\n",
        "\n",
        "```\n",
        "algoritmo = DecisionTreeClassifier()\n",
        "algoritmo.fit(X_train_s, y_train_s)\n",
        "print('Precisión Árboles de Decisión Clasificación - Sépalo: {}'.format(algoritmo.score(X_test_s, y_test_s)))\n",
        "```\n",
        "\n"
      ],
      "metadata": {
        "id": "2JkGqBfIuzUV"
      }
    },
    {
      "cell_type": "code",
      "source": [
        "# Escribe aquí tu código\n"
      ],
      "metadata": {
        "id": "HhNzWLDE-2fz"
      },
      "execution_count": null,
      "outputs": []
    },
    {
      "cell_type": "markdown",
      "source": [
        "8. Compara los valores de precisión que has ido consiguiendo en los diferentes modelos. ¿Cuál sería el mejor para este dataset?"
      ],
      "metadata": {
        "id": "V7LiuoeMvLbB"
      }
    }
  ]
}